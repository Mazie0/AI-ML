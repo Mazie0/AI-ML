{
 "cells": [
  {
   "cell_type": "code",
   "execution_count": null,
   "metadata": {},
   "outputs": [],
   "source": [
    "import pandas as pd\n",
    "from sklearn.model_selection import train_test_split\n",
    "from sklearn.linear_model import LogisticRegression\n",
    "from sklearn.metrics import accuracy_score, classification_report\n",
    "\n",
    
    "data_file = 'GENERAL.csv' \n",
    "df = pd.read_csv(data_file)\n",
    "\n",
    "#
    
    "df.fillna(0, inplace=True)  # Fill any missing values with 0\n",
    "\n",
    "# Identify features and target\n",
    "X = df.drop('DEFAULT_NEXT_MONTH', axis=1) \n",
    "y = df['DEFAULT_NEXT_MONTH']\n",
    "\n",
    "# Split into training and testing sets\n",
    "X_train, X_test, y_train, y_test = train_test_split(X, y, test_size=0.2, random_state=42)\n",
    "\n",
    "# Model training\n",
    "model = LogisticRegression()\n",
    "model.fit(X_train, y_train)  \n",
    "\n",
    "# c) Print results\n",
    "y_pred = model.predict(X_test)\n",
    "print('Accuracy:', accuracy_score(y_test, y_pred))\n",
    "print(classification_report(y_test, y_pred))\n"
   ]
  }
 ],
 "metadata": {
  "language_info": {
   "name": "python"
  }
 },
 "nbformat": 4,
 "nbformat_minor": 2
}
